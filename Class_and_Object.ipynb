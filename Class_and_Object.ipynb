{
  "nbformat": 4,
  "nbformat_minor": 0,
  "metadata": {
    "colab": {
      "provenance": [],
      "authorship_tag": "ABX9TyPMv3HnuueOJKb3Ai9rlI1A",
      "include_colab_link": true
    },
    "kernelspec": {
      "name": "python3",
      "display_name": "Python 3"
    },
    "language_info": {
      "name": "python"
    }
  },
  "cells": [
    {
      "cell_type": "markdown",
      "metadata": {
        "id": "view-in-github",
        "colab_type": "text"
      },
      "source": [
        "<a href=\"https://colab.research.google.com/github/Mahfujul-01726/Object-Oriented-Programming-in-Python--/blob/main/Class_and_Object.ipynb\" target=\"_parent\"><img src=\"https://colab.research.google.com/assets/colab-badge.svg\" alt=\"Open In Colab\"/></a>"
      ]
    },
    {
      "cell_type": "code",
      "source": [
        "class Car:\n",
        "  def __init__(self, make, model, year):\n",
        "    self.make = make\n",
        "    self.model = model\n",
        "    self.year = year\n",
        "\n",
        "  def start_engine(self):\n",
        "    print(f\"The {self.year} {self.make} {self.model}'s engine is starting.\")\n",
        "\n",
        "  def display(self): # Added display function\n",
        "    print(f\"Car Make: {self.make}, Model: {self.model}, Year: {self.year}\")\n",
        "\n",
        "# Moved instantiation and method calls outside the class definition\n",
        "my_car = Car(\"Toyota\", \"Corolla\", 2020)\n",
        "my_car.display() # call the display function\n",
        "my_car.start_engine()"
      ],
      "metadata": {
        "colab": {
          "base_uri": "https://localhost:8080/"
        },
        "id": "3JMK8I-Hjpnj",
        "outputId": "c6a73395-4e69-4295-9a8e-7c66f8d84244"
      },
      "execution_count": 4,
      "outputs": [
        {
          "output_type": "stream",
          "name": "stdout",
          "text": [
            "Car Make: Toyota, Model: Corolla, Year: 2020\n",
            "The 2020 Toyota Corolla's engine is starting.\n"
          ]
        }
      ]
    },
    {
      "cell_type": "code",
      "source": [
        "# Step 1: Define the Animal class\n",
        "class Animal:\n",
        "    def __init__(self, species, name, age):\n",
        "        self.species = species\n",
        "        self.name = name\n",
        "        self.age = age\n",
        "\n",
        "    def describe(self):\n",
        "        print(f\"{self.name} is a {self.age}-year-old {self.species}.\")\n",
        "\n",
        "# Step 2: Create instances of the Animal class\n",
        "dog = Animal(\"Dog\", \"Buddy\", 5)\n",
        "cat = Animal(\"Cat\", \"Whiskers\", 3)\n",
        "parrot = Animal(\"Parrot\", \"Polly\", 2)\n",
        "\n",
        "# Step 3: Call the describe method\n",
        "dog.describe()       # Output: Buddy is a 5-year-old Dog.\n",
        "cat.describe()       # Output: Whiskers is a 3-year-old Cat.\n",
        "parrot.describe()    # Output: Polly is a 2-year-old Parrot.\n",
        "\n",
        "# Step 4: Modify an instance's attribute and print again\n",
        "dog.age = 6\n",
        "dog.describe()       # Output: Buddy is a 6-year-old Dog.\n"
      ],
      "metadata": {
        "colab": {
          "base_uri": "https://localhost:8080/"
        },
        "id": "dAss2bdfjpjj",
        "outputId": "57e00fe7-d6c9-47b2-c4cd-7b623e0adbf1"
      },
      "execution_count": 5,
      "outputs": [
        {
          "output_type": "stream",
          "name": "stdout",
          "text": [
            "Buddy is a 5-year-old Dog.\n",
            "Whiskers is a 3-year-old Cat.\n",
            "Polly is a 2-year-old Parrot.\n",
            "Buddy is a 6-year-old Dog.\n"
          ]
        }
      ]
    },
    {
      "cell_type": "code",
      "source": [
        "class Animal:\n",
        "    def __init__(self, species):\n",
        "        self.species = species\n",
        "\n",
        "    def speak(self):\n",
        "        # Define unique sounds for each species\n",
        "        sounds = {\n",
        "            \"dog\": \"Woof\",\n",
        "            \"cat\": \"Meow\",\n",
        "            \"parrot\": \"Squawk\",\n",
        "            \"cow\": \"Moo\",  # You can add more species if needed\n",
        "        }\n",
        "        # Print the sound for the species or a default message\n",
        "        print(sounds.get(self.species.lower(), \"Unknown sound\"))\n",
        "\n",
        "# Create instances for different species\n",
        "dog = Animal(\"dog\")\n",
        "cat = Animal(\"cat\")\n",
        "parrot = Animal(\"parrot\")\n",
        "\n",
        "# Test the speak method\n",
        "dog.speak()  # Output: Woof\n",
        "cat.speak()  # Output: Meow\n",
        "parrot.speak()  # Output: Squawk\n"
      ],
      "metadata": {
        "colab": {
          "base_uri": "https://localhost:8080/"
        },
        "id": "i_0iUDZ-jphQ",
        "outputId": "f47c4e9d-b97e-4c33-f44b-9db77172902d"
      },
      "execution_count": 6,
      "outputs": [
        {
          "output_type": "stream",
          "name": "stdout",
          "text": [
            "Woof\n",
            "Meow\n",
            "Squawk\n"
          ]
        }
      ]
    },
    {
      "cell_type": "code",
      "execution_count": null,
      "metadata": {
        "id": "MjNWysGUjAz4"
      },
      "outputs": [],
      "source": []
    }
  ]
}